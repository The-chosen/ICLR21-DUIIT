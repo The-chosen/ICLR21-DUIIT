{
 "cells": [
  {
   "cell_type": "code",
   "execution_count": 1,
   "metadata": {},
   "outputs": [],
   "source": [
    "import pandas as pd\n",
    "import numpy as np"
   ]
  },
  {
   "cell_type": "code",
   "execution_count": 2,
   "metadata": {},
   "outputs": [
    {
     "data": {
      "text/html": [
       "<div>\n",
       "<style scoped>\n",
       "    .dataframe tbody tr th:only-of-type {\n",
       "        vertical-align: middle;\n",
       "    }\n",
       "\n",
       "    .dataframe tbody tr th {\n",
       "        vertical-align: top;\n",
       "    }\n",
       "\n",
       "    .dataframe thead th {\n",
       "        text-align: right;\n",
       "    }\n",
       "</style>\n",
       "<table border=\"1\" class=\"dataframe\">\n",
       "  <thead>\n",
       "    <tr style=\"text-align: right;\">\n",
       "      <th></th>\n",
       "      <th>Patient #</th>\n",
       "      <th>Age</th>\n",
       "    </tr>\n",
       "  </thead>\n",
       "  <tbody>\n",
       "    <tr>\n",
       "      <th>0</th>\n",
       "      <td>HN-HGJ-001</td>\n",
       "      <td>79</td>\n",
       "    </tr>\n",
       "    <tr>\n",
       "      <th>1</th>\n",
       "      <td>HN-HGJ-002</td>\n",
       "      <td>41</td>\n",
       "    </tr>\n",
       "    <tr>\n",
       "      <th>2</th>\n",
       "      <td>HN-HGJ-003</td>\n",
       "      <td>75</td>\n",
       "    </tr>\n",
       "    <tr>\n",
       "      <th>3</th>\n",
       "      <td>HN-HGJ-004</td>\n",
       "      <td>53</td>\n",
       "    </tr>\n",
       "    <tr>\n",
       "      <th>4</th>\n",
       "      <td>HN-HGJ-005</td>\n",
       "      <td>74</td>\n",
       "    </tr>\n",
       "  </tbody>\n",
       "</table>\n",
       "</div>"
      ],
      "text/plain": [
       "    Patient #  Age\n",
       "0  HN-HGJ-001   79\n",
       "1  HN-HGJ-002   41\n",
       "2  HN-HGJ-003   75\n",
       "3  HN-HGJ-004   53\n",
       "4  HN-HGJ-005   74"
      ]
     },
     "execution_count": 2,
     "metadata": {},
     "output_type": "execute_result"
    }
   ],
   "source": [
    "pet = pd.read_csv('pet.csv')\n",
    "pet.head()"
   ]
  },
  {
   "cell_type": "code",
   "execution_count": 3,
   "metadata": {},
   "outputs": [
    {
     "data": {
      "text/plain": [
       "0      79\n",
       "1      41\n",
       "2      75\n",
       "3      53\n",
       "4      74\n",
       "5      53\n",
       "6      62\n",
       "7      61\n",
       "8      59\n",
       "9      79\n",
       "10     56\n",
       "11     53\n",
       "12     62\n",
       "13     60\n",
       "14     56\n",
       "15     51\n",
       "16     69\n",
       "17     56\n",
       "18     61\n",
       "19     62\n",
       "20     60\n",
       "21     52\n",
       "22     53\n",
       "23     47\n",
       "24     65\n",
       "25     79\n",
       "26     64\n",
       "27     72\n",
       "28     59\n",
       "29     45\n",
       "       ..\n",
       "270    44\n",
       "271    61\n",
       "272    71\n",
       "273    64\n",
       "274    60\n",
       "275    58\n",
       "276    44\n",
       "277    50\n",
       "278    64\n",
       "279    51\n",
       "280    90\n",
       "281    69\n",
       "282    71\n",
       "283    71\n",
       "284    47\n",
       "285    62\n",
       "286    70\n",
       "287    65\n",
       "288    57\n",
       "289    71\n",
       "290    60\n",
       "291    66\n",
       "292    48\n",
       "293    72\n",
       "294    72\n",
       "295    77\n",
       "296    73\n",
       "297    81\n",
       "298    71\n",
       "299    57\n",
       "Name: Age, Length: 300, dtype: int64"
      ]
     },
     "execution_count": 3,
     "metadata": {},
     "output_type": "execute_result"
    }
   ],
   "source": [
    "pet['Age']"
   ]
  },
  {
   "cell_type": "code",
   "execution_count": 3,
   "metadata": {},
   "outputs": [
    {
     "data": {
      "text/html": [
       "<div>\n",
       "<style scoped>\n",
       "    .dataframe tbody tr th:only-of-type {\n",
       "        vertical-align: middle;\n",
       "    }\n",
       "\n",
       "    .dataframe tbody tr th {\n",
       "        vertical-align: top;\n",
       "    }\n",
       "\n",
       "    .dataframe thead th {\n",
       "        text-align: right;\n",
       "    }\n",
       "</style>\n",
       "<table border=\"1\" class=\"dataframe\">\n",
       "  <thead>\n",
       "    <tr style=\"text-align: right;\">\n",
       "      <th></th>\n",
       "      <th>Patient</th>\n",
       "      <th>RNASeqCluster</th>\n",
       "      <th>MethylationCluster</th>\n",
       "      <th>miRNACluster</th>\n",
       "      <th>CNCluster</th>\n",
       "      <th>RPPACluster</th>\n",
       "      <th>OncosignCluster</th>\n",
       "      <th>COCCluster</th>\n",
       "      <th>histological_type</th>\n",
       "      <th>neoplasm_histologic_grade</th>\n",
       "      <th>tumor_tissue_site</th>\n",
       "      <th>laterality</th>\n",
       "      <th>tumor_location</th>\n",
       "      <th>gender</th>\n",
       "      <th>age_at_initial_pathologic</th>\n",
       "      <th>race</th>\n",
       "      <th>ethnicity</th>\n",
       "      <th>death01</th>\n",
       "    </tr>\n",
       "  </thead>\n",
       "  <tbody>\n",
       "    <tr>\n",
       "      <th>0</th>\n",
       "      <td>TCGA_CS_4941</td>\n",
       "      <td>2.0</td>\n",
       "      <td>4.0</td>\n",
       "      <td>2</td>\n",
       "      <td>2.0</td>\n",
       "      <td>NaN</td>\n",
       "      <td>3.0</td>\n",
       "      <td>2</td>\n",
       "      <td>1.0</td>\n",
       "      <td>2.0</td>\n",
       "      <td>1.0</td>\n",
       "      <td>3.0</td>\n",
       "      <td>2.0</td>\n",
       "      <td>2.0</td>\n",
       "      <td>67.0</td>\n",
       "      <td>3.0</td>\n",
       "      <td>2.0</td>\n",
       "      <td>1.0</td>\n",
       "    </tr>\n",
       "    <tr>\n",
       "      <th>1</th>\n",
       "      <td>TCGA_CS_4942</td>\n",
       "      <td>1.0</td>\n",
       "      <td>5.0</td>\n",
       "      <td>2</td>\n",
       "      <td>1.0</td>\n",
       "      <td>1.0</td>\n",
       "      <td>2.0</td>\n",
       "      <td>1</td>\n",
       "      <td>1.0</td>\n",
       "      <td>2.0</td>\n",
       "      <td>1.0</td>\n",
       "      <td>3.0</td>\n",
       "      <td>2.0</td>\n",
       "      <td>1.0</td>\n",
       "      <td>44.0</td>\n",
       "      <td>2.0</td>\n",
       "      <td>NaN</td>\n",
       "      <td>1.0</td>\n",
       "    </tr>\n",
       "    <tr>\n",
       "      <th>2</th>\n",
       "      <td>TCGA_CS_4943</td>\n",
       "      <td>1.0</td>\n",
       "      <td>5.0</td>\n",
       "      <td>2</td>\n",
       "      <td>1.0</td>\n",
       "      <td>2.0</td>\n",
       "      <td>2.0</td>\n",
       "      <td>1</td>\n",
       "      <td>1.0</td>\n",
       "      <td>2.0</td>\n",
       "      <td>1.0</td>\n",
       "      <td>1.0</td>\n",
       "      <td>2.0</td>\n",
       "      <td>2.0</td>\n",
       "      <td>37.0</td>\n",
       "      <td>3.0</td>\n",
       "      <td>NaN</td>\n",
       "      <td>0.0</td>\n",
       "    </tr>\n",
       "    <tr>\n",
       "      <th>3</th>\n",
       "      <td>TCGA_CS_4944</td>\n",
       "      <td>NaN</td>\n",
       "      <td>5.0</td>\n",
       "      <td>2</td>\n",
       "      <td>1.0</td>\n",
       "      <td>2.0</td>\n",
       "      <td>1.0</td>\n",
       "      <td>1</td>\n",
       "      <td>1.0</td>\n",
       "      <td>1.0</td>\n",
       "      <td>1.0</td>\n",
       "      <td>3.0</td>\n",
       "      <td>6.0</td>\n",
       "      <td>2.0</td>\n",
       "      <td>50.0</td>\n",
       "      <td>3.0</td>\n",
       "      <td>NaN</td>\n",
       "      <td>0.0</td>\n",
       "    </tr>\n",
       "    <tr>\n",
       "      <th>4</th>\n",
       "      <td>TCGA_CS_5393</td>\n",
       "      <td>4.0</td>\n",
       "      <td>5.0</td>\n",
       "      <td>2</td>\n",
       "      <td>1.0</td>\n",
       "      <td>2.0</td>\n",
       "      <td>3.0</td>\n",
       "      <td>1</td>\n",
       "      <td>1.0</td>\n",
       "      <td>2.0</td>\n",
       "      <td>1.0</td>\n",
       "      <td>1.0</td>\n",
       "      <td>6.0</td>\n",
       "      <td>2.0</td>\n",
       "      <td>39.0</td>\n",
       "      <td>3.0</td>\n",
       "      <td>NaN</td>\n",
       "      <td>0.0</td>\n",
       "    </tr>\n",
       "  </tbody>\n",
       "</table>\n",
       "</div>"
      ],
      "text/plain": [
       "        Patient  RNASeqCluster  MethylationCluster  miRNACluster  CNCluster  \\\n",
       "0  TCGA_CS_4941            2.0                 4.0             2        2.0   \n",
       "1  TCGA_CS_4942            1.0                 5.0             2        1.0   \n",
       "2  TCGA_CS_4943            1.0                 5.0             2        1.0   \n",
       "3  TCGA_CS_4944            NaN                 5.0             2        1.0   \n",
       "4  TCGA_CS_5393            4.0                 5.0             2        1.0   \n",
       "\n",
       "   RPPACluster  OncosignCluster  COCCluster  histological_type  \\\n",
       "0          NaN              3.0           2                1.0   \n",
       "1          1.0              2.0           1                1.0   \n",
       "2          2.0              2.0           1                1.0   \n",
       "3          2.0              1.0           1                1.0   \n",
       "4          2.0              3.0           1                1.0   \n",
       "\n",
       "   neoplasm_histologic_grade  tumor_tissue_site  laterality  tumor_location  \\\n",
       "0                        2.0                1.0         3.0             2.0   \n",
       "1                        2.0                1.0         3.0             2.0   \n",
       "2                        2.0                1.0         1.0             2.0   \n",
       "3                        1.0                1.0         3.0             6.0   \n",
       "4                        2.0                1.0         1.0             6.0   \n",
       "\n",
       "   gender  age_at_initial_pathologic  race  ethnicity  death01  \n",
       "0     2.0                       67.0   3.0        2.0      1.0  \n",
       "1     1.0                       44.0   2.0        NaN      1.0  \n",
       "2     2.0                       37.0   3.0        NaN      0.0  \n",
       "3     2.0                       50.0   3.0        NaN      0.0  \n",
       "4     2.0                       39.0   3.0        NaN      0.0  "
      ]
     },
     "execution_count": 3,
     "metadata": {},
     "output_type": "execute_result"
    }
   ],
   "source": [
    "mri = pd.read_csv('mri.csv')\n",
    "mri.head()"
   ]
  },
  {
   "cell_type": "code",
   "execution_count": 9,
   "metadata": {},
   "outputs": [
    {
     "data": {
      "text/plain": [
       "'HN-HGJ-030'"
      ]
     },
     "execution_count": 9,
     "metadata": {},
     "output_type": "execute_result"
    }
   ],
   "source": [
    "'-'.join('HN-HGJ-030-1-90.png'.split('-')[:3]) "
   ]
  },
  {
   "cell_type": "code",
   "execution_count": 7,
   "metadata": {},
   "outputs": [
    {
     "name": "stdout",
     "output_type": "stream",
     "text": [
      "a-b-c\n"
     ]
    }
   ],
   "source": [
    "str = \"-\";\n",
    "seq = (\"a\", \"b\", \"c\"); # 字符串序列\n",
    "print( str.join( seq ))"
   ]
  },
  {
   "cell_type": "code",
   "execution_count": 16,
   "metadata": {},
   "outputs": [
    {
     "data": {
      "text/plain": [
       "74"
      ]
     },
     "execution_count": 16,
     "metadata": {},
     "output_type": "execute_result"
    }
   ],
   "source": [
    "patient_id_A = 'HN-HGJ-005'\n",
    "int(pet.loc[pet['Patient #'] == patient_id_A, 'Age'])"
   ]
  },
  {
   "cell_type": "code",
   "execution_count": null,
   "metadata": {},
   "outputs": [],
   "source": []
  }
 ],
 "metadata": {
  "kernelspec": {
   "display_name": "Python 3",
   "language": "python",
   "name": "python3"
  },
  "language_info": {
   "codemirror_mode": {
    "name": "ipython",
    "version": 3
   },
   "file_extension": ".py",
   "mimetype": "text/x-python",
   "name": "python",
   "nbconvert_exporter": "python",
   "pygments_lexer": "ipython3",
   "version": "3.7.3"
  }
 },
 "nbformat": 4,
 "nbformat_minor": 2
}
